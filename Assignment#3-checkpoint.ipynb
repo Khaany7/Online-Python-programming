{
 "cells": [
  {
   "cell_type": "code",
   "execution_count": 49,
   "id": "3f6f9281",
   "metadata": {},
   "outputs": [
    {
     "name": "stdout",
     "output_type": "stream",
     "text": [
      "Abdur Rehman Yousafzai's Assignment\n"
     ]
    }
   ],
   "source": [
    "print(\"Abdur Rehman Yousafzai's Assignment\")"
   ]
  },
  {
   "cell_type": "code",
   "execution_count": 81,
   "id": "a2b17690",
   "metadata": {},
   "outputs": [
    {
     "name": "stdout",
     "output_type": "stream",
     "text": [
      "\t\tTwinkle, twinkle, little star,\n",
      "\t\t\tHow I wonder what you are!\n",
      "\t\t\t\tUp above the world so high,\n",
      "\t\t\t\tLike a diamond in the sky.\n",
      "\t\tTwinkle, twinkle, little star,\n",
      "\t\t\tHow I wonder what you are\n"
     ]
    }
   ],
   "source": [
    "#Question No:1 (Write a Python program to print the following string in a specific format (see the output)\n",
    "\n",
    "print(\"\\t\\tTwinkle, twinkle, little star,\")\n",
    "print(\"\\t\\t\\tHow I wonder what you are!\")\n",
    "print(\"\\t\\t\\t\\tUp above the world so high,\")\n",
    "print(\"\\t\\t\\t\\tLike a diamond in the sky.\")\n",
    "print(\"\\t\\tTwinkle, twinkle, little star,\")\n",
    "print(\"\\t\\t\\tHow I wonder what you are\")\n"
   ]
  },
  {
   "cell_type": "code",
   "execution_count": 72,
   "id": "eb43c720",
   "metadata": {},
   "outputs": [
    {
     "name": "stdout",
     "output_type": "stream",
     "text": [
      "3.8.8 (default, Apr 13 2021, 15:08:03) [MSC v.1916 64 bit (AMD64)]\n"
     ]
    }
   ],
   "source": [
    "#Question No:2 (Write a Python program to get the Python version you are using)\n",
    "\n",
    "import sys\n",
    "print(sys.version)"
   ]
  },
  {
   "cell_type": "code",
   "execution_count": 80,
   "id": "dbed6b18",
   "metadata": {
    "scrolled": true
   },
   "outputs": [
    {
     "name": "stdout",
     "output_type": "stream",
     "text": [
      "2021-10-23 22:25:04.811451\n"
     ]
    }
   ],
   "source": [
    "#Question No:3 (Write a Python program to display the current date and time.)\n",
    "\n",
    "from datetime import datetime\n",
    "now=datetime.now()\n",
    "print(now)"
   ]
  },
  {
   "cell_type": "code",
   "execution_count": 87,
   "id": "72a6e234",
   "metadata": {},
   "outputs": [
    {
     "name": "stdout",
     "output_type": "stream",
     "text": [
      "Input radius of circle:1\n",
      "Computed area of a circle with radius 1.0 is: 3.141592653589793\n"
     ]
    }
   ],
   "source": [
    "#Question No:4 (Write a Python program which accepts the radius of a circle from the user and compute the area.)\n",
    "\n",
    "from math import pi\n",
    "r=float(input(\"Input radius of circle:\"))\n",
    "print(\"Computed area of a circle with radius \"+str(r)+\" is: \"+str(pi*r**2))"
   ]
  },
  {
   "cell_type": "code",
   "execution_count": 91,
   "id": "b2153c9f",
   "metadata": {},
   "outputs": [
    {
     "name": "stdout",
     "output_type": "stream",
     "text": [
      "Enter your first nameAbdurrehman\n",
      "Enter your last name Yousafzai\n",
      "Your name in reverse order is Yousafzai Abdurrehman\n"
     ]
    }
   ],
   "source": [
    "#Question No:5 (Write a Python program which accepts the user's first and last name and print them in reverse order with a space between them.)\n",
    "\n",
    "First_name=input (\"Enter your first name\")\n",
    "Last_name=input(\"Enter your last name \")\n",
    "print(\"Your name in reverse order is \"+Last_name+\" \"+First_name)"
   ]
  },
  {
   "cell_type": "code",
   "execution_count": 92,
   "id": "46609bd1",
   "metadata": {},
   "outputs": [
    {
     "name": "stdout",
     "output_type": "stream",
     "text": [
      "Enter's x value 25\n",
      "Enter's y value25\n",
      "Your answer is  50.0\n"
     ]
    }
   ],
   "source": [
    "#Question No:6 (Write a python program which takes two inputs from user and print them addition)\n",
    "\n",
    "x=float(input(\"Enter's x value \"))\n",
    "y=float (input(\"Enter's y value\"))\n",
    "z=x+y;\n",
    "print(\"Your answer is \",z)"
   ]
  },
  {
   "cell_type": "code",
   "execution_count": 118,
   "id": "4333a3d8",
   "metadata": {},
   "outputs": [
    {
     "name": "stdout",
     "output_type": "stream",
     "text": [
      "Enter Maths Number= 92\n",
      "Enter English Number= 90\n",
      "Enter Islamiat Number= 91\n",
      "Enter Chemistry Number= 88\n",
      "Enter Physics Number= 83\n",
      "Your Grade is A+\n"
     ]
    }
   ],
   "source": [
    "#Question No:7 (Write a program which takes 5 inputs from user for different subject’s marks, total it and generate mark sheet using grades?)\n",
    "\n",
    "Maths=int(input(\"Enter Maths Number= \"))\n",
    "English=int(input(\"Enter English Number= \"))\n",
    "Islamiat=int(input(\"Enter Islamiat Number= \"))\n",
    "Chemistry=int(input(\"Enter Chemistry Number= \"))\n",
    "Physics=int(input(\"Enter Physics Number= \"))\n",
    "Total=500;\n",
    "percentage=(Maths+English+Islamiat+Chemistry+Physics)/Total*100;\n",
    "if percentage <100 and percentage >=85:\n",
    "    print(\"Your Grade is A+\");\n",
    "elif percentage <100 and percentage >=75:\n",
    "    print(\"Your Grade is A\");\n",
    "elif percentage <100 and percentage >=65:\n",
    "    print(\"Your Grade is B\");\n",
    "elif percentage <100 and percenatge >=55:\n",
    "      print(\"Your Grade is C\");\n",
    "else:\n",
    "        print(\"Your are Fail\");"
   ]
  },
  {
   "cell_type": "code",
   "execution_count": 145,
   "id": "1d122cc7",
   "metadata": {},
   "outputs": [
    {
     "name": "stdout",
     "output_type": "stream",
     "text": [
      "Enter a number: 9\n",
      "This is odd number\n"
     ]
    }
   ],
   "source": [
    "#Question No:8 (Write a program which take input from user and identify that the given number is even or odd?)\n",
    "\n",
    "num = int(input(\"Enter a number: \"))\n",
    "mod = num % 2\n",
    "if mod > 0:\n",
    "    print(\"This is odd number\")\n",
    "else:\n",
    "    print(\"This is even number\")"
   ]
  },
  {
   "cell_type": "code",
   "execution_count": 165,
   "id": "1d981911",
   "metadata": {},
   "outputs": [
    {
     "name": "stdout",
     "output_type": "stream",
     "text": [
      "Length of this list is:  4\n"
     ]
    }
   ],
   "source": [
    "#Question No:9 (Write a program which print the length of the list?)\n",
    "\n",
    "ThisList=len((\"1\",\"3\",\"Khaany\",\"Hanzlah\"))\n",
    "print(\"Length of this list is: \",ThisList)"
   ]
  },
  {
   "cell_type": "code",
   "execution_count": 171,
   "id": "37e39234",
   "metadata": {},
   "outputs": [
    {
     "name": "stdout",
     "output_type": "stream",
     "text": [
      "The sum of number in List is:  24\n"
     ]
    }
   ],
   "source": [
    "#Question No:10 (Write a Python program to sum all the numeric items in a list?)\n",
    "\n",
    "ThisList=(1,3,5,7,8)\n",
    "x=sum(ThisList)\n",
    "print(\"The sum of number in List is: \",x)"
   ]
  },
  {
   "cell_type": "code",
   "execution_count": 208,
   "id": "737a612d",
   "metadata": {},
   "outputs": [
    {
     "name": "stdout",
     "output_type": "stream",
     "text": [
      "Largest element is: 67\n"
     ]
    }
   ],
   "source": [
    "#Question No:11 (Write a Python program to get the largest number from a numeric list.)\n",
    "\n",
    "ThisList = [23,1,32,67,2,34,12]\n",
    "ThisList.sort()\n",
    "print(\"Largest element is:\", ThisList[-1])"
   ]
  },
  {
   "cell_type": "code",
   "execution_count": 220,
   "id": "9c057369",
   "metadata": {},
   "outputs": [
    {
     "name": "stdout",
     "output_type": "stream",
     "text": [
      "The Number which are less than 5 is:  1\n",
      "The Number which are less than 5 is:  1\n",
      "The Number which are less than 5 is:  2\n",
      "The Number which are less than 5 is:  3\n"
     ]
    }
   ],
   "source": [
    "#Question No:12 Take a list, say for example this one:\n",
    "#             a = [1, 1, 2, 3, 5, 8, 13, 21, 34, 55, 89]\n",
    "# Write a program that prints out all the elements of the list that are less than 5.\n",
    "\n",
    "a = [1, 1, 2, 3, 5, 8, 13, 21, 34, 55, 89]\n",
    "for i in a:\n",
    "    if i < 5:\n",
    "        print(\"The Number which are less than 5 is: \",i)"
   ]
  },
  {
   "cell_type": "code",
   "execution_count": null,
   "id": "cf3a48f2",
   "metadata": {},
   "outputs": [],
   "source": []
  },
  {
   "cell_type": "code",
   "execution_count": null,
   "id": "6d1e9c41",
   "metadata": {},
   "outputs": [],
   "source": []
  }
 ],
 "metadata": {
  "kernelspec": {
   "display_name": "Python 3",
   "language": "python",
   "name": "python3"
  },
  "language_info": {
   "codemirror_mode": {
    "name": "ipython",
    "version": 3
   },
   "file_extension": ".py",
   "mimetype": "text/x-python",
   "name": "python",
   "nbconvert_exporter": "python",
   "pygments_lexer": "ipython3",
   "version": "3.8.8"
  }
 },
 "nbformat": 4,
 "nbformat_minor": 5
}
